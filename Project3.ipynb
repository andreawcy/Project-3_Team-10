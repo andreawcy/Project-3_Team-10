{
 "cells": [
  {
   "cell_type": "code",
   "execution_count": 1,
   "metadata": {},
   "outputs": [],
   "source": [
    "import pandas as pd\n",
    "from pathlib import Path \n"
   ]
  },
  {
   "cell_type": "code",
   "execution_count": 15,
   "metadata": {},
   "outputs": [],
   "source": [
    "#Load CSV files\n",
    "Traffic_accidents = Path('Resources/Automobile_KSI.xlsx')\n",
    "Traffic_df = pd.read_excel(Traffic_accidents)\n",
    "\n",
    "Car_thefts = Path('Resources/Auto_Theft_Open_Data.xlsx')\n",
    "Theft_df = pd.read_excel(Car_thefts)\n"
   ]
  },
  {
   "cell_type": "code",
   "execution_count": 13,
   "metadata": {},
   "outputs": [],
   "source": [
    "#Clean Data\n",
    "Traffic_df_clean=Traffic_df[['DATE','YEAR','STREET1','STREET2','ROAD_CLASS','DISTRICT','LATITUDE','LONGITUDE','VISIBILITY','LIGHT','RDSFCOND','ACCLASS','INVAGE','DRIVCOND','ALCOHOL','HOOD_158','NEIGHBOURHOOD_158']]"
   ]
  },
  {
   "cell_type": "code",
   "execution_count": 19,
   "metadata": {},
   "outputs": [],
   "source": [
    "#Clean Data\n",
    "Theft_df_clean=Theft_df[['OCC_DATE','REPORT_YEAR','OFFENCE','HOOD_158','NEIGHBOURHOOD_158']]"
   ]
  }
 ],
 "metadata": {
  "kernelspec": {
   "display_name": "Python 3 (ipykernel)",
   "language": "python",
   "name": "python3"
  },
  "language_info": {
   "codemirror_mode": {
    "name": "ipython",
    "version": 3
   },
   "file_extension": ".py",
   "mimetype": "text/x-python",
   "name": "python",
   "nbconvert_exporter": "python",
   "pygments_lexer": "ipython3",
   "version": "3.11.7"
  },
  "vscode": {
   "interpreter": {
    "hash": "31f2aee4e71d21fbe5cf8b01ff0e069b9275f58929596ceb00d14d90e3e16cd6"
   }
  }
 },
 "nbformat": 4,
 "nbformat_minor": 4
}
